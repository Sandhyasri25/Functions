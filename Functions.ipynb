{
 "cells": [
  {
   "cell_type": "code",
   "execution_count": 1,
   "id": "cda72e64-56b8-4d17-9f66-076cc568629a",
   "metadata": {},
   "outputs": [
    {
     "name": "stdout",
     "output_type": "stream",
     "text": [
      "--------\n",
      "welcome\n",
      "--------\n"
     ]
    }
   ],
   "source": [
    "print(\"--------\")\n",
    "print(\"welcome\")\n",
    "print(\"--------\")"
   ]
  },
  {
   "cell_type": "code",
   "execution_count": 7,
   "id": "4781fe36-27bb-4442-9248-3e9c60c891be",
   "metadata": {},
   "outputs": [
    {
     "name": "stdout",
     "output_type": "stream",
     "text": [
      "----\n",
      "welcome\n",
      "----\n",
      "welcome\n",
      "----\n",
      "welcome\n",
      "----\n",
      "welcome\n",
      "----\n",
      "welcome\n",
      "----\n",
      "welcome\n",
      "----\n",
      "welcome\n",
      "----\n",
      "welcome\n",
      "--------------------------------"
     ]
    }
   ],
   "source": [
    "for i in range(8):\n",
    "    print('----',end='')\n",
    "    print(\"\\nwelcome\")\n",
    "for i in range(8):\n",
    "    print('----',end='')"
   ]
  },
  {
   "cell_type": "code",
   "execution_count": 13,
   "id": "68927ba0-db47-4523-9f82-c4bbc479e731",
   "metadata": {},
   "outputs": [
    {
     "name": "stdout",
     "output_type": "stream",
     "text": [
      "--------------------------------\n",
      " welcome\n",
      "--------------------------------"
     ]
    }
   ],
   "source": [
    "def line():\n",
    "    for i in range(8):\n",
    "        print(\"----\",end='')\n",
    "line()\n",
    "print(\"\\n welcome\")\n",
    "line()"
   ]
  },
  {
   "cell_type": "code",
   "execution_count": 31,
   "id": "7b9da2e4-8328-4e8d-a708-c32ad96bdb46",
   "metadata": {},
   "outputs": [
    {
     "name": "stdin",
     "output_type": "stream",
     "text": [
      "value for n1 4\n",
      "value for n2 3\n"
     ]
    },
    {
     "name": "stdout",
     "output_type": "stream",
     "text": [
      "4 is not prime\n",
      "3 is prime\n"
     ]
    }
   ],
   "source": [
    "def prime(n):\n",
    "    fc=0\n",
    "    for f in range(1,n+1):\n",
    "        if n%f==0:\n",
    "           fc=fc+1\n",
    "    if fc==2:\n",
    "        print(n,\"is prime\")\n",
    "    else:\n",
    "        print(n,\"is not prime\")\n",
    "n1=int(input(\"value for n1\"))\n",
    "n2=int(input(\"value for n2\"))\n",
    "prime(n1)\n",
    "prime(n2)"
   ]
  },
  {
   "cell_type": "code",
   "execution_count": 35,
   "id": "51d0d93e-983d-41c3-81f8-4ab0212585cc",
   "metadata": {},
   "outputs": [
    {
     "name": "stdin",
     "output_type": "stream",
     "text": [
      "value for n1 9\n",
      "value for n2 5\n"
     ]
    },
    {
     "name": "stdout",
     "output_type": "stream",
     "text": [
      "4\n"
     ]
    }
   ],
   "source": [
    "def prime(n):\n",
    "    fc=0\n",
    "    for f in range(1,n+1):\n",
    "        if n%f==0:\n",
    "           fc=fc+1\n",
    "    if fc==2:\n",
    "       return 1\n",
    "    else:\n",
    "       return 0\n",
    "n1=int(input(\"value for n1\"))\n",
    "n2=int(input(\"value for n2\"))\n",
    "s1=prime(n1)\n",
    "s2=prime(n2)\n",
    "if s1==1 and s2==1:\n",
    "    print(n1+n2)\n",
    "else:\n",
    "    print(n1-n2)"
   ]
  },
  {
   "cell_type": "code",
   "execution_count": 37,
   "id": "fe2f306f-2edb-422f-9a46-9aca83e7a45e",
   "metadata": {},
   "outputs": [
    {
     "name": "stdin",
     "output_type": "stream",
     "text": [
      "value for n1 5\n",
      "value for n2 7\n"
     ]
    },
    {
     "name": "stdout",
     "output_type": "stream",
     "text": [
      "equal\n"
     ]
    }
   ],
   "source": [
    "def digits(n):\n",
    "    dc=0\n",
    "    while(n>0):\n",
    "        dc=dc+1\n",
    "        n=n//10\n",
    "    return dc\n",
    "n1=int(input(\"value for n1\"))\n",
    "n2=int(input(\"value for n2\"))\n",
    "c1=digits(n1)\n",
    "c2=digits(n2)\n",
    "if c1>c2:\n",
    "    print(n1,\"contains more digits\")\n",
    "elif c2>c1:\n",
    "    print(n2,\"contains more digits\")\n",
    "else:\n",
    "    print(\"equal\")"
   ]
  },
  {
   "cell_type": "code",
   "execution_count": 43,
   "id": "66f3f506-a4a4-4324-845a-14ca2a44c781",
   "metadata": {},
   "outputs": [
    {
     "name": "stdin",
     "output_type": "stream",
     "text": [
      "value for n1 4\n",
      "value for n2 6\n"
     ]
    },
    {
     "name": "stdout",
     "output_type": "stream",
     "text": [
      "6 is perfect\n",
      "6 is biggest\n"
     ]
    }
   ],
   "source": [
    "def perfect(n):\n",
    "    fs=0\n",
    "    for f in range(1,n+1):\n",
    "        if n%f==0:\n",
    "            fs=fs+f\n",
    "            f=f+1\n",
    "    if fs==f:\n",
    "        return 1\n",
    "    else:\n",
    "        return 0\n",
    "n1=int(input(\"value for n1\"))\n",
    "n2=int(input(\"value for n2\"))\n",
    "s1=perfect(n1)\n",
    "s2=perfect(n2)\n",
    "if s1==1 and s2==1:\n",
    "    print(n1,\"is perfect\")\n",
    "else:\n",
    "    print(n2,\"is perfect\")\n",
    "if n1>n2:\n",
    "    print(n1,\"is biggest\")\n",
    "elif n2>n1:\n",
    "    print(n2,\"is biggest\")\n",
    "else:\n",
    "    print(\"equal\")"
   ]
  },
  {
   "cell_type": "code",
   "execution_count": 47,
   "id": "9f3c2ae5-9f09-432d-800e-bd4805026fe3",
   "metadata": {},
   "outputs": [
    {
     "name": "stdin",
     "output_type": "stream",
     "text": [
      "value for n 36\n"
     ]
    }
   ],
   "source": [
    "n=int(input(\"value for n\"))\n",
    "while n<=10:\n",
    "      print(n)\n",
    "if n==9:\n",
    "   n=0\n",
    "   n=n+1"
   ]
  },
  {
   "cell_type": "code",
   "execution_count": 51,
   "id": "f90ea3f0-cfa2-42b7-a345-c9839cf4ab4c",
   "metadata": {},
   "outputs": [
    {
     "name": "stdin",
     "output_type": "stream",
     "text": [
      "value for n1 4\n",
      "value for n2 3\n",
      "value for n3 5\n",
      "value for n4 1\n"
     ]
    },
    {
     "name": "stdout",
     "output_type": "stream",
     "text": [
      "7 is biggest\n"
     ]
    }
   ],
   "source": [
    "def bigsum(x,y):\n",
    "    return x+y       \n",
    "n1=int(input(\"value for n1\"))\n",
    "n2=int(input(\"value for n2\"))\n",
    "n3=int(input(\"value for n3\"))\n",
    "n4=int(input(\"value for n4\"))\n",
    "a1=bigsum(n1,n2)\n",
    "a2=bigsum(n3,n4)\n",
    "if a1>a2:\n",
    "   print(a1,\"is biggest\")\n",
    "else:\n",
    "   print(a2,\"is biggest\")\n"
   ]
  },
  {
   "cell_type": "code",
   "execution_count": 53,
   "id": "e561f389-b13a-4e6a-965b-be56eb392d30",
   "metadata": {},
   "outputs": [
    {
     "name": "stdin",
     "output_type": "stream",
     "text": [
      "value for n1 1\n",
      "value for n2 2\n",
      "value for n3 3\n",
      "value for n4 4\n",
      "value for n5 5\n",
      "value for n6 6\n"
     ]
    },
    {
     "name": "stdout",
     "output_type": "stream",
     "text": [
      "Biggest is 6\n"
     ]
    }
   ],
   "source": [
    "def bignum(x,y):\n",
    "    if x>y:\n",
    "       return x\n",
    "    else:\n",
    "       return y\n",
    "n1=int(input(\"value for n1\"))\n",
    "n2=int(input(\"value for n2\"))\n",
    "n3=int(input(\"value for n3\"))\n",
    "n4=int(input(\"value for n4\"))\n",
    "n5=int(input(\"value for n5\"))\n",
    "n6=int(input(\"value for n6\"))\n",
    "b1=bignum(n1,n2)\n",
    "b2=bignum(n3,n4)\n",
    "b3=bignum(n5,n6)\n",
    "b11=bignum(b1,b2)\n",
    "b12=bignum(b3,b11)\n",
    "print(\"Biggest is\",b12)\n",
    "    "
   ]
  },
  {
   "cell_type": "code",
   "execution_count": 55,
   "id": "0a211a97-82c7-494a-9dd4-2a8a8646a633",
   "metadata": {},
   "outputs": [
    {
     "name": "stdin",
     "output_type": "stream",
     "text": [
      "value for n1 345\n",
      "value for n2 965\n"
     ]
    },
    {
     "name": "stdout",
     "output_type": "stream",
     "text": [
      "569 is biggest\n"
     ]
    }
   ],
   "source": [
    "def reversenum(n):\n",
    "    rn=0\n",
    "    while n>0:\n",
    "          rem=n%10\n",
    "          rn=rn*10+rem\n",
    "          n=n//10\n",
    "    return rn\n",
    "n1=int(input(\"value for n1\"))\n",
    "n2=int(input(\"value for n2\"))\n",
    "r1=reversenum(n1)\n",
    "r2=reversenum(n2)\n",
    "if r1>r2:\n",
    "   print(r1,\"is biggest\")\n",
    "else:\n",
    "   print(r2,\"is biggest\")"
   ]
  },
  {
   "cell_type": "code",
   "execution_count": 60,
   "id": "252cee85-3c40-4c87-871a-0868fd7e55a1",
   "metadata": {},
   "outputs": [
    {
     "name": "stdin",
     "output_type": "stream",
     "text": [
      "value for n1 151\n",
      "value for n2 345\n"
     ]
    },
    {
     "name": "stdout",
     "output_type": "stream",
     "text": [
      "both are notarmstrong\n"
     ]
    }
   ],
   "source": [
    "def armstrongnum(n):\n",
    "    dc=0\n",
    "    sum=0\n",
    "    temp=n\n",
    "    while temp>0:\n",
    "          dc=dc+1\n",
    "          temp=temp//10\n",
    "    temp=n\n",
    "    while temp>0:\n",
    "          rem=temp%10\n",
    "          sum=sum+rem**dc\n",
    "          temp=temp//10 \n",
    "    if sum==n:\n",
    "       return 1\n",
    "    else:\n",
    "       return 0\n",
    "n1=int(input(\"value for n1\"))\n",
    "n2=int(input(\"value for n2\"))\n",
    "s1=armstrongnum(n1)\n",
    "s2=armstrongnum(n2)\n",
    "if s1==1 and s2==1:\n",
    "   if n1>n2:\n",
    "      print(n1,\"is biggest armstrong\")\n",
    "   else:\n",
    "      print(n2,\"is biggest armstrong\")\n",
    "elif s1==1 and s2==0:\n",
    "     print(n1,\"is an armstrong\")\n",
    "     print(n2,\"is an notarmstrong\")\n",
    "elif s1==0 and s2==1:\n",
    "     print(n1,\"is an notarmstrong\")\n",
    "     print(n2,\"is an armstrong\")\n",
    "else:\n",
    "     print(\"both are notarmstrong\")"
   ]
  },
  {
   "cell_type": "code",
   "execution_count": 66,
   "id": "1569f112-55ea-493e-9432-50fcdaf9b7e3",
   "metadata": {},
   "outputs": [
    {
     "name": "stdin",
     "output_type": "stream",
     "text": [
      "value for n1 23\n",
      "value for n2 34\n"
     ]
    },
    {
     "name": "stdout",
     "output_type": "stream",
     "text": [
      "34 is biggest\n"
     ]
    }
   ],
   "source": [
    "def bignum(n):\n",
    "    while n>0:\n",
    "          sum=0\n",
    "          rem=n%10\n",
    "          sum=sum+rem\n",
    "          n=n//10\n",
    "    return sum\n",
    "n1=int(input(\"value for n1\"))\n",
    "n2=int(input(\"value for n2\"))\n",
    "c1=bignum(n1)\n",
    "c2=bignum(n2)\n",
    "if n1>n2:\n",
    "   print(n1,\"is biggest\")\n",
    "elif n2>n1:\n",
    "    print(n2,\"is biggest\")\n",
    "else:\n",
    "    print(\"equal\")"
   ]
  },
  {
   "cell_type": "code",
   "execution_count": 68,
   "id": "5aa35911-1881-4728-a7c3-be61407fe5f1",
   "metadata": {},
   "outputs": [
    {
     "name": "stdin",
     "output_type": "stream",
     "text": [
      "value for n1 27\n",
      "value for n2 18\n"
     ]
    },
    {
     "name": "stdout",
     "output_type": "stream",
     "text": [
      "9 is biggest\n"
     ]
    }
   ],
   "source": [
    "def digits(n):\n",
    "    while n>9:\n",
    "          n=n//10+n%10\n",
    "          return n\n",
    "n1=int(input(\"value for n1\"))\n",
    "n2=int(input(\"value for n2\"))\n",
    "c1=digits(n1)\n",
    "c2=digits(n2)\n",
    "if c1>c2:\n",
    "   print(c1,\"is biggest\")\n",
    "else:\n",
    "   print(c2,\"is biggest\")"
   ]
  },
  {
   "cell_type": "code",
   "execution_count": 72,
   "id": "e4c33c4f-3126-4a89-9462-5d537a78bba2",
   "metadata": {},
   "outputs": [
    {
     "name": "stdin",
     "output_type": "stream",
     "text": [
      "starting value 23\n",
      "ending value 34\n",
      "starting value 41\n",
      "ending value 7\n"
     ]
    },
    {
     "name": "stdout",
     "output_type": "stream",
     "text": [
      "23 34 contains more numbers\n"
     ]
    }
   ],
   "source": [
    "def primenum(c1,c2):\n",
    "    c=0\n",
    "    for n in range(c1,c2+1):\n",
    "        fc=0\n",
    "        for f in range(1,n+1):\n",
    "            if n%f==0:\n",
    "               fc=fc+1\n",
    "        if fc==2:\n",
    "           c=c+1\n",
    "    return c\n",
    "a=int(input(\"starting value\"))\n",
    "b=int(input(\"ending value\"))\n",
    "c=int(input(\"starting value\"))\n",
    "d=int(input(\"ending value\"))\n",
    "c1=primenum(a,b)\n",
    "c2=primenum(c,d)\n",
    "if c1>c2:\n",
    "   print(a,b,\"contains more numbers\")\n",
    "else:\n",
    "   print(c,d,\"contains more numbers\")"
   ]
  },
  {
   "cell_type": "code",
   "execution_count": 86,
   "id": "ce8f8671-633d-4f7f-acb8-d999e2c9df50",
   "metadata": {},
   "outputs": [
    {
     "name": "stdout",
     "output_type": "stream",
     "text": [
      "15\n"
     ]
    }
   ],
   "source": [
    "x=lambda n1:n1+10\n",
    "print(x(5))\n"
   ]
  },
  {
   "cell_type": "code",
   "execution_count": 1,
   "id": "1ffecf4e-21e8-4d82-98bc-532c21906f7d",
   "metadata": {},
   "outputs": [
    {
     "name": "stdin",
     "output_type": "stream",
     "text": [
      "enter a text ram is playing cricket\n"
     ]
    },
    {
     "name": "stdout",
     "output_type": "stream",
     "text": [
      "total number of vowels  6\n",
      "total number of consonants 16\n"
     ]
    }
   ],
   "source": [
    "n=input(\"enter a text\")\n",
    "vowels=0\n",
    "consonants=0\n",
    "for i in n:\n",
    "    if(i=='a' or i=='e' or i=='i' or i=='o' or i=='u' or i=='A' or i=='E' or i=='I' or i=='O' or i=='U'):\n",
    "       vowels=vowels+1\n",
    "    else:\n",
    "       consonants=consonants+1\n",
    "print(\"total number of vowels \",vowels)\n",
    "print(\"total number of consonants\",consonants)\n",
    "\n",
    "\n"
   ]
  },
  {
   "cell_type": "code",
   "execution_count": 3,
   "id": "4c05e04e-b83f-464d-8bf5-df9566f5744b",
   "metadata": {},
   "outputs": [
    {
     "name": "stdin",
     "output_type": "stream",
     "text": [
      "enter a text: sita is singing a song\n"
     ]
    },
    {
     "name": "stdout",
     "output_type": "stream",
     "text": [
      "5\n"
     ]
    }
   ],
   "source": [
    "s1=input(\"enter a text:\")\n",
    "a=s1.split(' ')\n",
    "print(len(a))\n",
    "\n"
   ]
  },
  {
   "cell_type": "code",
   "execution_count": 5,
   "id": "0e7050f5-13ef-4094-b866-f0f4e5007f94",
   "metadata": {},
   "outputs": [
    {
     "name": "stdin",
     "output_type": "stream",
     "text": [
      "enter a text ram is playing cricket\n",
      "enter a character y\n"
     ]
    },
    {
     "name": "stdout",
     "output_type": "stream",
     "text": [
      "1 times character occur\n"
     ]
    }
   ],
   "source": [
    "s1=input(\"enter a text\")\n",
    "s2=input(\"enter a character\")\n",
    "c=0\n",
    "for i in s1:\n",
    "    if i==s2:\n",
    "       c=c+1\n",
    "print(c,\"times character occur\")\n",
    "    \n",
    "      \n"
   ]
  },
  {
   "cell_type": "code",
   "execution_count": 7,
   "id": "861d5695-3b62-4091-89fc-dec9a91433b9",
   "metadata": {},
   "outputs": [
    {
     "name": "stdin",
     "output_type": "stream",
     "text": [
      "enter a text this applications elements\n",
      "enter a word apple\n"
     ]
    },
    {
     "name": "stdout",
     "output_type": "stream",
     "text": [
      " Yes word can be formed\n"
     ]
    }
   ],
   "source": [
    "s1=input(\"enter a text\") \n",
    "s2=input(\"enter a word\")\n",
    "a=list(s2)\n",
    "c=0\n",
    "for i in a:\n",
    "    if i in s1:\n",
    "       c=c+1\n",
    "if c==len(s2):\n",
    "   print(\" Yes word can be formed\")\n",
    "else:\n",
    "   print(\" No word cannot be formed\")"
   ]
  },
  {
   "cell_type": "code",
   "execution_count": 9,
   "id": "069a7b52-a477-4e84-a46c-0ba185b180bd",
   "metadata": {},
   "outputs": [
    {
     "name": "stdin",
     "output_type": "stream",
     "text": [
      "enter a number 4\n"
     ]
    },
    {
     "name": "stdout",
     "output_type": "stream",
     "text": [
      "1 2 3 4 \n",
      "\n",
      "2 4 6 8 \n",
      "\n",
      "3 6 9 12 \n",
      "\n",
      "4 8 12 16 \n",
      "\n"
     ]
    }
   ],
   "source": [
    "def rows_columns_pattern(r):\n",
    "    for i in range(1,r+1):\n",
    "        for j in range(1,r+1): \n",
    "            print(i*j,end=\" \")\n",
    "        print(\"\\n\")            \n",
    "n1=int(input(\"enter a number\"))\n",
    "rows_columns_pattern(n1)\n",
    "\n",
    "\n",
    "\n"
   ]
  },
  {
   "cell_type": "code",
   "execution_count": 11,
   "id": "8ff31099-6e56-41c7-80de-c168fe2acb42",
   "metadata": {},
   "outputs": [
    {
     "name": "stdin",
     "output_type": "stream",
     "text": [
      "enter a number 4\n"
     ]
    },
    {
     "name": "stdout",
     "output_type": "stream",
     "text": [
      "1 1 1 1 \n",
      "2 4 8 16 \n",
      "3 9 27 81 \n",
      "4 16 64 256 \n"
     ]
    }
   ],
   "source": [
    "def rows_columns_pattern(r):\n",
    "    for i in range(1,r+1):\n",
    "        for j in range(1,r+1): \n",
    "            print(i**j,end=\" \")\n",
    "        print()            \n",
    "n1=int(input(\"enter a number\"))\n",
    "rows_columns_pattern(n1)"
   ]
  },
  {
   "cell_type": "code",
   "execution_count": 15,
   "id": "bf8434af-d4a4-4c72-8705-5c3e0d935db8",
   "metadata": {},
   "outputs": [
    {
     "name": "stdin",
     "output_type": "stream",
     "text": [
      "value for n1 345\n",
      "value for n2 549\n"
     ]
    },
    {
     "name": "stdout",
     "output_type": "stream",
     "text": [
      "14\n"
     ]
    }
   ],
   "source": [
    "def evenodd(n,r):\n",
    "    sum=0\n",
    "    while n>0:\n",
    "          rem=n%10\n",
    "          n=n//10\n",
    "          if rem%2==r:\n",
    "             sum=sum+rem\n",
    "    return sum\n",
    "n1=int(input(\"value for n1\"))\n",
    "n2=int(input(\"value for n2\"))\n",
    "es=evenodd(n1,0)\n",
    "os=evenodd(n2,1)\n",
    "if es>os:\n",
    "   print(es)\n",
    "elif os>es:\n",
    "     print(os)\n",
    "else:\n",
    "    print(\"equal\")\n",
    "          "
   ]
  },
  {
   "cell_type": "code",
   "execution_count": 17,
   "id": "585b7d52-9258-4daa-ae1e-2758f28075d4",
   "metadata": {},
   "outputs": [
    {
     "name": "stdin",
     "output_type": "stream",
     "text": [
      "value for n 3455\n"
     ]
    },
    {
     "name": "stdout",
     "output_type": "stream",
     "text": [
      "maximum reminder factorial 120\n"
     ]
    }
   ],
   "source": [
    "def fact(n):\n",
    "    fac=1\n",
    "    while n>1:\n",
    "          fac=fac*n\n",
    "          n=n-1\n",
    "    return fac\n",
    "n=int(input(\"value for n\"))\n",
    "max=0\n",
    "while n>0:\n",
    "      rem=n%10\n",
    "      f=fact(rem)\n",
    "      if f>max:\n",
    "         max=f\n",
    "      n=n//10\n",
    "print(\"maximum reminder factorial\",max)\n"
   ]
  },
  {
   "cell_type": "code",
   "execution_count": 19,
   "id": "b49298e5-a8c8-421f-871b-e6cb0ea3d15f",
   "metadata": {},
   "outputs": [],
   "source": [
    "def valid_name(s1):\n",
    "    if s1.isalpha():\n",
    "       return True\n",
    "    else:\n",
    "       return False\n",
    "       \n",
    "def valid_no(n1):\n",
    "    if n1.isnumeric():\n",
    "       return True\n",
    "    else:\n",
    "       return False\n"
   ]
  },
  {
   "cell_type": "code",
   "execution_count": 21,
   "id": "ae0c1d44-8165-42d2-9644-fe967da495eb",
   "metadata": {},
   "outputs": [
    {
     "name": "stdin",
     "output_type": "stream",
     "text": [
      "enter a first number 3\n",
      "enter a second number 4\n"
     ]
    },
    {
     "name": "stdout",
     "output_type": "stream",
     "text": [
      "3 4 are not prime\n"
     ]
    }
   ],
   "source": [
    "def prime(n1):\n",
    "    fc=0\n",
    "    for f in range(1,n1+1):\n",
    "        if n1%f==0:\n",
    "           fc=fc+1\n",
    "    if fc==2:\n",
    "       return 1\n",
    "s=int(input(\"enter a first number\"))\n",
    "e=int(input(\"enter a second number\"))\n",
    "a=0\n",
    "b=0\n",
    "if s-e==2 or e-s==2:\n",
    "   a=prime(s)\n",
    "   b=prime(e)\n",
    "if a==1 and b==1:\n",
    "   print(s,e,\"are twin prime\")\n",
    "else:\n",
    "   print(s,e,\"are not prime\")\n"
   ]
  },
  {
   "cell_type": "code",
   "execution_count": 31,
   "id": "5caf78ca-0d16-4ac4-8950-14238a34a80f",
   "metadata": {},
   "outputs": [
    {
     "name": "stdin",
     "output_type": "stream",
     "text": [
      "enter name ram\n",
      "enter a number 123\n"
     ]
    },
    {
     "name": "stdout",
     "output_type": "stream",
     "text": [
      "ram rollnumber is 123\n"
     ]
    }
   ],
   "source": [
    "def valid_name(s1):\n",
    "    if s1.isalpha():\n",
    "       return True\n",
    "    else:\n",
    "       return False\n",
    "       \n",
    "def valid_no(n1):\n",
    "    if n1.isnumeric():\n",
    "       return True\n",
    "    else:\n",
    "       return False\n",
    "\n",
    "na=input(\"enter name\")\n",
    "if valid_name(na):\n",
    "   no=input(\"enter a number\")\n",
    "   if valid_no(no):\n",
    "      print(na,'rollnumber is',no)\n",
    "   else:\n",
    "      print(\"rollnumber must be only numbers\")\n",
    "else:\n",
    "      print('name must be alphabet only')\n",
    "   "
   ]
  },
  {
   "cell_type": "code",
   "execution_count": 35,
   "id": "2e3e192d-7040-4090-a88a-776dbcf79f98",
   "metadata": {},
   "outputs": [
    {
     "name": "stdin",
     "output_type": "stream",
     "text": [
      "enter a starting number 11\n",
      "enter a ending number 13\n"
     ]
    },
    {
     "name": "stdout",
     "output_type": "stream",
     "text": [
      "11 13\n"
     ]
    }
   ],
   "source": [
    "def prime(n):\n",
    "    fc=0\n",
    "    for f in range(1,n+1):\n",
    "        if n%f==0:\n",
    "           fc=fc+1\n",
    "    if fc==2:\n",
    "       return 1\n",
    "    else:\n",
    "       return 0\n",
    "def twinprime(s,e):\n",
    "    j=0\n",
    "    for i in range(s,e+1):\n",
    "        j=i+2\n",
    "        k=prime(i)\n",
    "        l=prime(j)\n",
    "        if k==1 and l==1:\n",
    "           print(i,j)\n",
    "s=int(input(\"enter a starting number\"))\n",
    "e=int(input(\"enter a ending number\"))\n",
    "twinprime(s,e)\n"
   ]
  },
  {
   "cell_type": "code",
   "execution_count": 37,
   "id": "2e9926c8-eaae-4aef-bdf0-1ee06a871926",
   "metadata": {},
   "outputs": [
    {
     "name": "stdout",
     "output_type": "stream",
     "text": [
      "[1, 2, 3, 4]\n",
      "[6, 7, 8, 9]\n",
      "[7, 9, 11, 13]\n"
     ]
    }
   ],
   "source": [
    "l1=[1,2,3,4]\n",
    "l2=[6,7,8,9]\n",
    "print(l1)\n",
    "print(l2)\n",
    "l=[]\n",
    "for i in range(0,len(l1)):\n",
    "    l.append(l1[i]+l2[i])\n",
    "print(l)"
   ]
  },
  {
   "cell_type": "code",
   "execution_count": 51,
   "id": "c97e01ef-2192-492e-997d-d99a290aa630",
   "metadata": {},
   "outputs": [
    {
     "ename": "SyntaxError",
     "evalue": "unterminated string literal (detected at line 6) (4221875554.py, line 6)",
     "output_type": "error",
     "traceback": [
      "\u001b[1;36m  Cell \u001b[1;32mIn[51], line 6\u001b[1;36m\u001b[0m\n\u001b[1;33m    print(\"data is available in both the list)\u001b[0m\n\u001b[1;37m          ^\u001b[0m\n\u001b[1;31mSyntaxError\u001b[0m\u001b[1;31m:\u001b[0m unterminated string literal (detected at line 6)\n"
     ]
    }
   ],
   "source": [
    "l1=[]\n",
    "l2=[]\n",
    "if l1==[] and l2==[]\n",
    "   l1.append(10)\n",
    "   l2.append(10)\n",
    "   print(\"data is available in both the list)\n",
    "else:\n",
    "   print(\"data is not available\")\n",
    "   "
   ]
  },
  {
   "cell_type": "code",
   "execution_count": 55,
   "id": "29ac98f4-961e-4745-8ef3-289cb3485eb0",
   "metadata": {},
   "outputs": [],
   "source": [
    "def maxchar(s):\n",
    "    m={}\n",
    "    n=len(s)\n",
    "    a=''\n",
    "    c=0\n",
    "    for i in range(n):\n",
    "        if s in m:\n",
    "           m=m+1\n",
    "        else:\n",
    "           m=1\n",
    "    if c<m[s]:\n",
    "       a=s[i]\n",
    "       c=m[s[i]]\n",
    "       print(a,\"more times occured\")\n",
    "\n",
    "         "
   ]
  },
  {
   "cell_type": "code",
   "execution_count": 57,
   "id": "c44790c1-161e-4704-8cb1-535ef208303f",
   "metadata": {},
   "outputs": [
    {
     "name": "stdin",
     "output_type": "stream",
     "text": [
      "number of rows 4\n"
     ]
    },
    {
     "name": "stdout",
     "output_type": "stream",
     "text": [
      "1 2 3 4 \n",
      "1 2 3 \n",
      "1 2 \n",
      "1 \n",
      "1 2 \n",
      "1 2 3 \n",
      "1 2 3 4 \n"
     ]
    }
   ],
   "source": [
    "r=int(input(\"number of rows\"))\n",
    "for i in range(r,0,-1):\n",
    "    for j in range(1,i+1):\n",
    "        print(j,end=\" \")\n",
    "    print()\n",
    "for i in range(2,r+1):\n",
    "    for j in range(1,i+1):\n",
    "        print(j,end=\" \")\n",
    "    print()"
   ]
  },
  {
   "cell_type": "code",
   "execution_count": 59,
   "id": "58e5e05e-30dc-481e-9e98-f1d7a737fb4f",
   "metadata": {},
   "outputs": [
    {
     "name": "stdin",
     "output_type": "stream",
     "text": [
      "value for n 23\n"
     ]
    },
    {
     "name": "stdout",
     "output_type": "stream",
     "text": [
      "0 \n"
     ]
    }
   ],
   "source": [
    "n=int(input(\"value for n\"))\n",
    "n1=0\n",
    "n2=1\n",
    "print(n1,end=\" \")\n",
    "#for i in range(2,n):\n",
    "n1=n2\n",
    "n2=n1+n2\n",
    "#print(n2,end=\" \")\n",
    "print()"
   ]
  },
  {
   "cell_type": "code",
   "execution_count": 61,
   "id": "bff62c28-c39a-4bd3-b014-b5a3e978946c",
   "metadata": {},
   "outputs": [
    {
     "name": "stdin",
     "output_type": "stream",
     "text": [
      "enter a text sun rises in east\n"
     ]
    },
    {
     "name": "stdout",
     "output_type": "stream",
     "text": [
      "sust\n"
     ]
    }
   ],
   "source": [
    "s=input(\"enter a text\")\n",
    "c=0\n",
    "for i in s:\n",
    "    c=c+1\n",
    "    n=s[:2]+s[c-2:c]\n",
    "print(n)\n"
   ]
  },
  {
   "cell_type": "code",
   "execution_count": 63,
   "id": "6ddaa015-f606-4a1c-9776-e64e61de3c25",
   "metadata": {},
   "outputs": [
    {
     "name": "stdin",
     "output_type": "stream",
     "text": [
      "enter a text sun rises in east\n"
     ]
    },
    {
     "name": "stdout",
     "output_type": "stream",
     "text": [
      "17\n"
     ]
    }
   ],
   "source": [
    "s=input(\"enter a text\")\n",
    "c=0\n",
    "for i in s:\n",
    "    c=c+1\n",
    "print(c)\n",
    "\n",
    "\n",
    "\n"
   ]
  },
  {
   "cell_type": "code",
   "execution_count": 65,
   "id": "30ba4151-0eb4-4117-92b5-278d264eb084",
   "metadata": {},
   "outputs": [
    {
     "name": "stdin",
     "output_type": "stream",
     "text": [
      "enter a text raj is climbing a tree\n"
     ]
    },
    {
     "name": "stdout",
     "output_type": "stream",
     "text": [
      "{'r': 2, 'a': 2, 'j': 1, ' ': 4, 'i': 3, 's': 1, 'c': 1, 'l': 1, 'm': 1, 'b': 1, 'n': 1, 'g': 1, 't': 1, 'e': 2} occured in text\n"
     ]
    }
   ],
   "source": [
    "s=input(\"enter a text\")\n",
    "c={}\n",
    "for i in s:\n",
    "    if i in c:\n",
    "       c[i]=c[i]+1\n",
    "    else:\n",
    "       c[i]=1\n",
    "print(c,\"occured in text\")"
   ]
  },
  {
   "cell_type": "code",
   "execution_count": 67,
   "id": "2e2f3a11-f101-48a1-bca0-fb66b66744f0",
   "metadata": {},
   "outputs": [
    {
     "name": "stdin",
     "output_type": "stream",
     "text": [
      "enter text raj is climbing a tree\n"
     ]
    },
    {
     "name": "stdout",
     "output_type": "stream",
     "text": [
      "5\n"
     ]
    }
   ],
   "source": [
    "s=input(\"enter text\")\n",
    "w=0\n",
    "for i in range(len(s)):\n",
    "    if s[i]==' ' and s[i+1]!=' ':\n",
    "       w=w+1\n",
    "print(w+1)\n"
   ]
  },
  {
   "cell_type": "code",
   "execution_count": 69,
   "id": "9d1042af-cb28-45ec-9310-19b1429705d8",
   "metadata": {},
   "outputs": [
    {
     "name": "stdout",
     "output_type": "stream",
     "text": [
      "name quantity price\n",
      "java 10 400 \n",
      " python \n",
      " 15 \n",
      " 500 "
     ]
    },
    {
     "name": "stdin",
     "output_type": "stream",
     "text": [
      "\n",
      " book want to purchase: no\n",
      "quantity 1\n",
      "\n",
      " book want to purchase: java\n",
      "quantity 2\n"
     ]
    },
    {
     "name": "stdout",
     "output_type": "stream",
     "text": [
      "{'book name': 'no', 'quantity': 1, 'amount': 400}\n",
      "{'book name': 'java', 'quantity': 2, 'amount': 1000}\n",
      "9 books left in java\n",
      "13 books left in python\n"
     ]
    }
   ],
   "source": [
    "book1={'name':'java','quantity':10,'price':400}\n",
    "\n",
    "book2={'name':'python','quantity':15,'price':500}\n",
    "print(\"name quantity price\")\n",
    "for x in book1:\n",
    "    print(book1[x],end=\" \")\n",
    "for y in book2:\n",
    "    print(\"\\n\",book2[y],end=\" \")\n",
    "a=input(\"\\n book want to purchase:\")\n",
    "b=int(input(\"quantity\"))\n",
    "purchase1={\"book name\":a,\"quantity\":b,\"amount\":book1.get(\"price\")*b}\n",
    "x=input(\"\\n book want to purchase:\")\n",
    "y=int(input(\"quantity\"))\n",
    "purchase2={\"book name\":x,\"quantity\":y,\"amount\":book2.get(\"price\")*y}\n",
    "print(purchase1)\n",
    "print(purchase2)\n",
    "print(book1.get(\"quantity\")-purchase1.get(\"quantity\"),\"books left in java\")\n",
    "print(book2.get(\"quantity\")-purchase2.get(\"quantity\"),\"books left in python\")\n",
    "\n"
   ]
  },
  {
   "cell_type": "code",
   "execution_count": 71,
   "id": "41daa50e-94d6-448a-befb-6e2be44c1064",
   "metadata": {},
   "outputs": [
    {
     "name": "stdout",
     "output_type": "stream",
     "text": [
      "[12, 15, 22, 34, 97, 76, 63, 54]\n"
     ]
    }
   ],
   "source": [
    "l=[12,34,54,76,15,63,97,22]\n",
    "l.sort()\n",
    "s=len(l)//2\n",
    "n=sorted(l[:s])\n",
    "m=sorted(l[s:],reverse=True)\n",
    "p=n+m\n",
    "print(p)\n",
    "\n"
   ]
  },
  {
   "cell_type": "code",
   "execution_count": 73,
   "id": "e5b31d00-8ab7-431c-b372-cfac23242e35",
   "metadata": {},
   "outputs": [
    {
     "name": "stdin",
     "output_type": "stream",
     "text": [
      "enter text raj is watching movie\n"
     ]
    },
    {
     "name": "stdout",
     "output_type": "stream",
     "text": [
      "3\n"
     ]
    }
   ],
   "source": [
    "s=input(\"enter text\")\n",
    "w=0\n",
    "try:\n",
    "   for i in range(len(s)):\n",
    "       if s[i]==' ' and s[i+1]!=' ':\n",
    "          w=w+1\n",
    "except IndexError:\n",
    "       print(\" \",end=' ')\n",
    "if s!=' ':\n",
    "   print(w if w>0 else 1)\n",
    "else:\n",
    "   print(0)"
   ]
  },
  {
   "cell_type": "code",
   "execution_count": 75,
   "id": "17927cfa-dedb-4863-a575-2ac5cbf38025",
   "metadata": {},
   "outputs": [
    {
     "name": "stdout",
     "output_type": "stream",
     "text": [
      "kiran\n"
     ]
    }
   ],
   "source": [
    "list=[\"ram\",\"kiran\",\"raju\",\"sam\"]\n",
    "for i in list:\n",
    "    if len(i) == 5:\n",
    "       print(i)"
   ]
  },
  {
   "cell_type": "code",
   "execution_count": 77,
   "id": "b639ed8f-e9bb-47e3-b1d4-4b19e1a71335",
   "metadata": {},
   "outputs": [
    {
     "name": "stdin",
     "output_type": "stream",
     "text": [
      "enter a s1 ram\n",
      "enter a s2 raj\n",
      "enter a s3 sam\n",
      "enter a s4 ravi\n",
      "enter a s5 gopi\n"
     ]
    },
    {
     "name": "stdout",
     "output_type": "stream",
     "text": [
      "4 contains more characters\n"
     ]
    }
   ],
   "source": [
    "def bigchar(x,y):\n",
    "    if x>y:\n",
    "       return x\n",
    "    else: \n",
    "       return y\n",
    "s1=input(\"enter a s1\")\n",
    "s2=input(\"enter a s2\")\n",
    "s3=input(\"enter a s3\")\n",
    "s4=input(\"enter a s4\")\n",
    "s5=input(\"enter a s5\")\n",
    "s12=bigchar(len(s1),len(s2))\n",
    "s34=bigchar(len(s3),len(s4))\n",
    "m=bigchar(s12,s34)\n",
    "if len(s5)>m:\n",
    "   print(s5,\"contains more characters\")\n",
    "else:\n",
    "   print(m,\"contains more characters\")\n",
    "   \n"
   ]
  },
  {
   "cell_type": "code",
   "execution_count": 81,
   "id": "6ac74ed2-0556-4896-8207-7a94b9cf6213",
   "metadata": {},
   "outputs": [
    {
     "name": "stdout",
     "output_type": "stream",
     "text": [
      "[]\n"
     ]
    }
   ],
   "source": [
    "list=[\"book\",\"fool\",\"good\",\"bad\",\"google\",\"kiran\"]\n",
    "s=[]\n",
    "for i in list:\n",
    "    for j in range(1,len(list)):\n",
    "        if list[j] == list[j-1]:\n",
    "           s.append(i)\n",
    "           break\n",
    "        \n",
    "print(s)\n",
    "    "
   ]
  },
  {
   "cell_type": "code",
   "execution_count": 83,
   "id": "bf138332-52ef-475a-b47f-a8ca249cf643",
   "metadata": {},
   "outputs": [
    {
     "name": "stdout",
     "output_type": "stream",
     "text": [
      "235 532\n",
      "543 345\n",
      "744 447\n",
      "972 279\n"
     ]
    }
   ],
   "source": [
    "l=[235,543,744,972]\n",
    "for i in l:\n",
    "    s=(str(i)[::-1])\n",
    "    print(i,s)\n"
   ]
  },
  {
   "cell_type": "code",
   "execution_count": 85,
   "id": "a47b532c-8e2a-48a5-8cfd-831435500637",
   "metadata": {},
   "outputs": [
    {
     "name": "stdout",
     "output_type": "stream",
     "text": [
      "21 is not prime\n",
      "12 is not prime\n",
      "24 is not prime\n",
      "5 is prime\n",
      "11 is prime\n",
      "3 is prime\n"
     ]
    }
   ],
   "source": [
    "l=[21,12,24,5,11,3]\n",
    "for i in l:\n",
    "    c=0\n",
    "    for j in range(1,i):\n",
    "        if i%j==0:\n",
    "           c=c+1\n",
    "    if c==1:\n",
    "       print(i,\"is prime\")\n",
    "    else:\n",
    "       print(i,\"is not prime\")\n",
    "           "
   ]
  },
  {
   "cell_type": "code",
   "execution_count": 87,
   "id": "aa762eb1-6802-4606-ae4c-240cd2b371cc",
   "metadata": {},
   "outputs": [
    {
     "name": "stdout",
     "output_type": "stream",
     "text": [
      "9\n",
      "9\n",
      "5\n",
      "3\n"
     ]
    }
   ],
   "source": [
    "l=[234,567,842,156]\n",
    "for i in l:\n",
    "    s=i\n",
    "    while s>9:\n",
    "          s=0\n",
    "          while i>0:   \n",
    "                r=i%10\n",
    "                i=i//10\n",
    "                s=s+r \n",
    "          i=s   \n",
    "    print(s)\n",
    "        "
   ]
  },
  {
   "cell_type": "code",
   "execution_count": 7,
   "id": "4d5bb499-c256-4378-b0ea-181dbd9fc6a7",
   "metadata": {},
   "outputs": [
    {
     "name": "stdin",
     "output_type": "stream",
     "text": [
      "Enter the number of elements:  5\n",
      "Enter element 1:  1\n",
      "Enter element 2:  2\n",
      "Enter element 3:  3\n",
      "Enter element 4:  4\n",
      "Enter element 5:  5\n"
     ]
    },
    {
     "name": "stdout",
     "output_type": "stream",
     "text": [
      "Original list: [1, 2, 3, 4, 5]\n",
      "Duplicates: []\n"
     ]
    }
   ],
   "source": [
    "l = []  # List to store user inputs\n",
    "s = []  # List to store duplicates\n",
    "\n",
    "# Take inputs from the user\n",
    "n = int(input(\"Enter the number of elements: \"))\n",
    "for i in range(n):\n",
    "    m = int(input(f\"Enter element {i + 1}: \"))\n",
    "    l.append(m)\n",
    "\n",
    "# Find duplicates\n",
    "for a in l:\n",
    "    if l.count(a) > 1 and a not in s:  # Check for duplicates and avoid repeated entries in `s`\n",
    "        s.append(a)\n",
    "\n",
    "# Display results\n",
    "print(\"Original list:\", l)\n",
    "print(\"Duplicates:\", s)\n"
   ]
  },
  {
   "cell_type": "code",
   "execution_count": 13,
   "id": "c01bf7f9-04dd-4531-b5b6-e4614de68e0e",
   "metadata": {},
   "outputs": [
    {
     "name": "stdin",
     "output_type": "stream",
     "text": [
      "['name', 'age', 'location', 'name'] sam\n",
      "['name', 'age', 'location', 'age'] 23\n",
      "['name', 'age', 'location', 'location'] nellore\n"
     ]
    },
    {
     "name": "stdout",
     "output_type": "stream",
     "text": [
      "{'name': 'sam', 'age': '23', 'location': 'nellore'}\n"
     ]
    }
   ],
   "source": [
    "l=[\"name\",\"age\",\"location\"]\n",
    "d={}\n",
    "for i in l:\n",
    "    d[i]=input(l+[i])\n",
    "print(d) "
   ]
  },
  {
   "cell_type": "code",
   "execution_count": 15,
   "id": "05520a36-c423-4c9c-878f-10868a024aea",
   "metadata": {},
   "outputs": [
    {
     "name": "stdout",
     "output_type": "stream",
     "text": [
      "<class 'int'>\n",
      "<class 'int'>\n",
      "<class 'int'>\n",
      "<class 'int'>\n",
      "<class 'list'>\n",
      "{1: 2, 2: 2, 3: 2, 4: 1}\n"
     ]
    }
   ],
   "source": [
    "l=[1,2,3,4,[1,2,3]]\n",
    "l1={}\n",
    "for i in l:\n",
    "    print(type(i))\n",
    "    if type(i)==list:\n",
    "       for j in i:\n",
    "           if j in l1:\n",
    "               l1[j]+=1\n",
    "           else:\n",
    "               l1[j]=1\n",
    "    else:\n",
    "       if i in l1:\n",
    "          l1[i]+=1\n",
    "       else:\n",
    "          l1[i]=1\n",
    "print(l1)"
   ]
  },
  {
   "cell_type": "code",
   "execution_count": 17,
   "id": "f56d4ca4-78a0-4c11-ad2b-98ff11515f90",
   "metadata": {},
   "outputs": [
    {
     "name": "stdout",
     "output_type": "stream",
     "text": [
      "[(4, 3), (-1, 8)]\n"
     ]
    }
   ],
   "source": [
    "l=[2,4,3,5,6,-1,8]\n",
    "sum=7\n",
    "n=[]\n",
    "for i in range(len(l)-1):\n",
    "    if l[i]+l[i+1]==sum:\n",
    "       n+=[(l[i],l[i+1])]\n",
    "print(n)\n",
    "   "
   ]
  },
  {
   "cell_type": "code",
   "execution_count": 19,
   "id": "7250a78b-e36c-4963-941d-f3fdd71500c6",
   "metadata": {},
   "outputs": [
    {
     "name": "stdout",
     "output_type": "stream",
     "text": [
      "[24, 12, 8, 6]\n"
     ]
    }
   ],
   "source": [
    "n= [1, 2, 3, 4]\n",
    "r=[]\n",
    "for i in range(len(n)):  \n",
    "    p=1  \n",
    "    for j in range(len(n)):\n",
    "        if i!=j:\n",
    "           p*=n[j]\n",
    "    r.append(p)  \n",
    "print(r)  \n"
   ]
  },
  {
   "cell_type": "code",
   "execution_count": 21,
   "id": "a1dd22f1-3ec3-4598-ab74-f07e256b0ce1",
   "metadata": {},
   "outputs": [
    {
     "name": "stdin",
     "output_type": "stream",
     "text": [
      "enter a numbe: 23\n"
     ]
    },
    {
     "name": "stdout",
     "output_type": "stream",
     "text": [
      "[1, 2, 3, 4, 5]\n"
     ]
    }
   ],
   "source": [
    "m=[1,2,3,4,5]\n",
    "n=int(input(\"enter a numbe:\"))\n",
    "p=m.copy()\n",
    "if n >0:  \n",
    "   p=p[-n:]+p[:-n] \n",
    "else:\n",
    "    print(m)   \n",
    "print(p) \n",
    "\n"
   ]
  },
  {
   "cell_type": "code",
   "execution_count": 23,
   "id": "f8ff7c9d-369e-4585-bec9-3bd79f944d1e",
   "metadata": {},
   "outputs": [
    {
     "name": "stdout",
     "output_type": "stream",
     "text": [
      "[24, 12, 8, 6]\n"
     ]
    }
   ],
   "source": [
    "l=[1,2,3,4]\n",
    "n=[]\n",
    "for i in range(len(l)):\n",
    "    if l[i]==1:\n",
    "       n+=[(l[1]*l[2]*l[3])]\n",
    "    if l[i]==2:\n",
    "       n+=[(l[0]*l[2]*l[3])]\n",
    "    if l[i]==3:\n",
    "       n+=[(l[0]*l[1]*l[3])]\n",
    "    if l[i]==4:\n",
    "       n+=[(l[0]*l[1]*l[2])]\n",
    "print(n)"
   ]
  },
  {
   "cell_type": "code",
   "execution_count": 45,
   "id": "b7bd02b1-16fe-4435-a5fc-db95397a1290",
   "metadata": {},
   "outputs": [
    {
     "name": "stdin",
     "output_type": "stream",
     "text": [
      "Enter a text:  swiss\n",
      "Enter a character:  w\n"
     ]
    },
    {
     "name": "stdout",
     "output_type": "stream",
     "text": [
      "{'character': 'w', 'index': 1}\n"
     ]
    },
    {
     "name": "stdin",
     "output_type": "stream",
     "text": [
      "Enter a text:  swiss\n"
     ]
    },
    {
     "name": "stdout",
     "output_type": "stream",
     "text": [
      "{'swiss': 5}\n"
     ]
    }
   ],
   "source": [
    "s1 = input(\"Enter a text: \")\n",
    "s2 = input(\"Enter a character: \")\n",
    "if s2 in s1:  \n",
    "    index = s1.index(s2)  \n",
    "    print({'character': s2, 'index': index})\n",
    "s1 = input(\"Enter a text: \")\n",
    "w = s1.split()\n",
    "C=dict(map(lambda x:(x,len(x)),w))\n",
    "print(C)"
   ]
  },
  {
   "cell_type": "code",
   "execution_count": 17,
   "id": "3d02c2f6-28a4-433a-abe9-1a7d8024c003",
   "metadata": {},
   "outputs": [
    {
     "name": "stdin",
     "output_type": "stream",
     "text": [
      "enter a text programming is fun\n"
     ]
    },
    {
     "name": "stdout",
     "output_type": "stream",
     "text": [
      "{'p': 1, 'r': 2, 'o': 1, 'g': 2, 'a': 1, 'm': 2, 'i': 2, 'n': 2, ' ': 2, 's': 1, 'f': 1, 'u': 1} occured in text\n"
     ]
    }
   ],
   "source": [
    "s=input(\"enter a text\")\n",
    "c={}\n",
    "for i in s:\n",
    "    if i in c:\n",
    "       c[i]=c[i]+1\n",
    "    else:\n",
    "        c[i]=1\n",
    "print(c,\"occured in text\")"
   ]
  },
  {
   "cell_type": "code",
   "execution_count": 21,
   "id": "6af2787e-78e3-451a-b018-3e2dad4f798d",
   "metadata": {},
   "outputs": [
    {
     "name": "stdin",
     "output_type": "stream",
     "text": [
      "Enter a text:  programming is fun\n"
     ]
    },
    {
     "name": "stdout",
     "output_type": "stream",
     "text": [
      "Number of words: 3\n",
      "Word 1: 'programming' has 11 characters\n",
      "Word 2: 'is' has 2 characters\n",
      "Word 3: 'fun' has 3 characters\n"
     ]
    }
   ],
   "source": [
    "s1 = input(\"Enter a text: \")\n",
    "w= s1.split()\n",
    "c = len(w)\n",
    "print(f\"Number of words: {c}\")\n",
    "# Display the number of characters in each word\n",
    "for i, word in enumerate(w, start=1):\n",
    "    print(f\"Word {i}: '{word}' has {len(word)} characters\")\n"
   ]
  },
  {
   "cell_type": "code",
   "execution_count": 33,
   "id": "c5790e28-3460-4bb7-8c45-2ff4b2022b3d",
   "metadata": {},
   "outputs": [
    {
     "name": "stdin",
     "output_type": "stream",
     "text": [
      "Enter a text:  ram is playing\n"
     ]
    },
    {
     "name": "stdout",
     "output_type": "stream",
     "text": [
      "Number of words: 3\n",
      "ram: 3 \n",
      "is: 2 \n",
      "playing: 7 \n"
     ]
    }
   ],
   "source": [
    "s1 = input(\"Enter a text: \")\n",
    "w = s1.split()\n",
    "print(f\"Number of words: {len(w)}\")\n",
    "for i in w:\n",
    "    print(f\"{i}: {len(i)} \")\n"
   ]
  },
  {
   "cell_type": "code",
   "execution_count": 47,
   "id": "c0867a37-b513-4531-822a-550d39b01898",
   "metadata": {},
   "outputs": [
    {
     "name": "stdout",
     "output_type": "stream",
     "text": [
      "{'ban': 2, 'ana': 2, 'na': 3}\n"
     ]
    }
   ],
   "source": [
    "s1 = \"banana bandana\"\n",
    "substrings = [\"ban\", \"ana\", \"na\"]\n",
    "result = {}\n",
    "for substring in substrings:\n",
    "    result[substring] = s1.count(substring)\n",
    "print(result)\n",
    "\n"
   ]
  },
  {
   "cell_type": "code",
   "execution_count": null,
   "id": "416e9541-6e4b-4b1c-9edb-8735b1e93a8e",
   "metadata": {},
   "outputs": [],
   "source": []
  }
 ],
 "metadata": {
  "kernelspec": {
   "display_name": "Python 3 (ipykernel)",
   "language": "python",
   "name": "python3"
  },
  "language_info": {
   "codemirror_mode": {
    "name": "ipython",
    "version": 3
   },
   "file_extension": ".py",
   "mimetype": "text/x-python",
   "name": "python",
   "nbconvert_exporter": "python",
   "pygments_lexer": "ipython3",
   "version": "3.12.7"
  }
 },
 "nbformat": 4,
 "nbformat_minor": 5
}
